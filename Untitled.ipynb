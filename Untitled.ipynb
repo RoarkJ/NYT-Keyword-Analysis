{
 "cells": [
  {
   "cell_type": "code",
   "execution_count": 1,
   "metadata": {},
   "outputs": [
    {
     "data": {
      "text/plain": [
       "Index(['Unnamed: 0', 'publication_date', 'keywords'], dtype='object')"
      ]
     },
     "metadata": {},
     "output_type": "display_data"
    }
   ],
   "source": [
    "import requests\n",
    "import json\n",
    "import pandas as pd\n",
    "import numpy as np\n",
    "from config import nyt_key\n",
    "import matplotlib as plt\n",
    "import sys\n",
    "import gc\n",
    "\n",
    "import pandas as pd\n",
    "from pathlib import Path\n",
    "\n",
    "df = pd.read_csv(\"sorted_daily_2020.csv\")\n",
    "display(df.columns)\n",
    "\n",
    "word_list = []\n",
    "corona_keys = []\n",
    "racial_keys = []\n",
    "corona_count = 0\n",
    "racial_count = 0\n"
   ]
  },
  {
   "cell_type": "code",
   "execution_count": 2,
   "metadata": {},
   "outputs": [
    {
     "ename": "NameError",
     "evalue": "name 'publication_date' is not defined",
     "output_type": "error",
     "traceback": [
      "\u001b[1;31m---------------------------------------------------------------------------\u001b[0m",
      "\u001b[1;31mNameError\u001b[0m                                 Traceback (most recent call last)",
      "\u001b[1;32m<ipython-input-2-4f375d59d2a9>\u001b[0m in \u001b[0;36m<module>\u001b[1;34m\u001b[0m\n\u001b[1;32m----> 1\u001b[1;33m \u001b[1;32mfor\u001b[0m \u001b[0mdate\u001b[0m \u001b[1;32min\u001b[0m \u001b[0mpublication_date\u001b[0m\u001b[1;33m:\u001b[0m\u001b[1;33m\u001b[0m\u001b[1;33m\u001b[0m\u001b[0m\n\u001b[0m\u001b[0;32m      2\u001b[0m     \u001b[1;31m#reset each day loop\u001b[0m\u001b[1;33m\u001b[0m\u001b[1;33m\u001b[0m\u001b[1;33m\u001b[0m\u001b[0m\n\u001b[0;32m      3\u001b[0m     \u001b[1;32mfor\u001b[0m \u001b[0mkeyword\u001b[0m \u001b[1;32min\u001b[0m \u001b[0mkeywords\u001b[0m\u001b[1;33m:\u001b[0m\u001b[1;33m\u001b[0m\u001b[1;33m\u001b[0m\u001b[0m\n\u001b[0;32m      4\u001b[0m         \u001b[1;32mif\u001b[0m \u001b[0mlen\u001b[0m\u001b[1;33m(\u001b[0m\u001b[1;33m[\u001b[0m\u001b[1;34m'keywords'\u001b[0m\u001b[1;33m]\u001b[0m\u001b[1;33m)\u001b[0m\u001b[1;33m>=\u001b[0m\u001b[1;36m4\u001b[0m\u001b[1;33m:\u001b[0m\u001b[1;33m\u001b[0m\u001b[1;33m\u001b[0m\u001b[0m\n\u001b[0;32m      5\u001b[0m             \u001b[0mword_list\u001b[0m\u001b[1;33m.\u001b[0m\u001b[0mappend\u001b[0m\u001b[1;33m(\u001b[0m\u001b[0mkeywords\u001b[0m\u001b[1;33m[\u001b[0m\u001b[1;34m'keywords'\u001b[0m\u001b[1;33m]\u001b[0m\u001b[1;33m[\u001b[0m\u001b[1;36m0\u001b[0m\u001b[1;33m]\u001b[0m\u001b[1;33m[\u001b[0m\u001b[1;34m'value'\u001b[0m\u001b[1;33m]\u001b[0m\u001b[1;33m)\u001b[0m\u001b[1;33m\u001b[0m\u001b[1;33m\u001b[0m\u001b[0m\n",
      "\u001b[1;31mNameError\u001b[0m: name 'publication_date' is not defined"
     ]
    }
   ],
   "source": [
    "#one loop is one day (date is pub date)\n",
    "#if len >=3 letters \n",
    "    #check contains string from list of strings\n",
    "    #if it contains matching values for corona aff to conrona list in new column and add count column \n",
    "    #\n",
    "\n",
    "for date in publication_date:\n",
    "    #reset each day loop\n",
    "    for keyword in keywords:\n",
    "        if len(['keywords'])>=4:\n",
    "            #if keyword contains \"Corona\" add to coronakeys list add one to keyword count\n",
    "            \n",
    "            \n",
    "            \n",
    " "
   ]
  },
  {
   "cell_type": "code",
   "execution_count": null,
   "metadata": {},
   "outputs": [],
   "source": [
    "for month in months:\n",
    "    publication_date = []\n",
    "    keyword_1 = []\n",
    "    keyword_2 = []\n",
    "    keyword_3 = []\n",
    "    keyword_count_1=0\n",
    "    keyword_count_2=0\n",
    "    keyword_count_3=0\n",
    "    combine=[]\n",
    "    for i in resp[\"response\"][\"docs\"]:\n",
    "        if len(i[\"keywords\"]) >= 3:\n",
    "            publication_date.append(i[\"pub_date\"])\n",
    "            keyword_1.append(i[\"keywords\"][0][\"value\"])\n",
    "            keyword_2.append(i[\"keywords\"][1][\"value\"])\n",
    "            keyword_3.append(i[\"keywords\"][2][\"value\"])\n",
    "    \n",
    "    data = {\n",
    "        \"publication_date\":publication_date,\n",
    "        \"keyword_1\":keyword_1,\n",
    "        \"keyword_2\":keyword_2,\n",
    "        \"keyword_3\":keyword_3,\n",
    "            }\n",
    "\n",
    "    df = pd.DataFrame(data)\n",
    "            #print(len(df))\n",
    "            #print(month)\n",
    "\n",
    "            \n",
    "    keyword_count_1 = df.keyword_1.value_counts()[0:100]\n",
    "    keyword_count_2 = df.keyword_2.value_counts()[0:100]\n",
    "    keyword_count_3 = df.keyword_3.value_counts()[0:100]\n",
    "    combined = pd.concat([keyword_count_1,keyword_count_2,keyword_count_3],axis=1).fillna(0)\n",
    "    combined = combined[\"keyword_1\"] + combined[\"keyword_2\"] + combined[\"keyword_3\"]\n",
    "    combined.sort_values(ascending=False)[0:50]\n",
    "    df['xmonth'] = month\n",
    "    data = {\n",
    "        \"month\":month,\n",
    "        \"combined\":combined,\n",
    "        \"xmonth\":month\n",
    "            }\n",
    "    df = pd.DataFrame(data)   \n",
    "    #write each month and keyword to a new column\n",
    "    #if month changes write new column with month and keyword\n",
    "     ######currently writing new file\n",
    "            #df.to_csv (r'data_file.csv', index = True, header=True)\n",
    "            \n",
    "    df.to_csv (r'data_file'+month+\".csv\", index = True, header=True)\n",
    "    #cleanup() #clear memory objects"
   ]
  }
 ],
 "metadata": {
  "kernelspec": {
   "display_name": "Python 3",
   "language": "python",
   "name": "python3"
  },
  "language_info": {
   "codemirror_mode": {
    "name": "ipython",
    "version": 3
   },
   "file_extension": ".py",
   "mimetype": "text/x-python",
   "name": "python",
   "nbconvert_exporter": "python",
   "pygments_lexer": "ipython3",
   "version": "3.7.7"
  }
 },
 "nbformat": 4,
 "nbformat_minor": 4
}
