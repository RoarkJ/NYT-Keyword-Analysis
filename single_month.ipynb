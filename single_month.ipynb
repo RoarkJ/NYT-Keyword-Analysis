{
 "cells": [
  {
   "cell_type": "code",
   "execution_count": 25,
   "metadata": {},
   "outputs": [],
   "source": [
    "import requests\n",
    "import json\n",
    "import pandas as pd\n",
    "import numpy as np\n",
    "from config import nyt_key\n",
    "import plotly.express as px\n",
    "import plotly.figure_factory as ff\n",
    "import plotly.graph_objects as go"
   ]
  },
  {
   "cell_type": "code",
   "execution_count": 26,
   "metadata": {
    "tags": []
   },
   "outputs": [
    {
     "output_type": "stream",
     "name": "stdout",
     "text": "https://api.nytimes.com/svc/archive/v1/2020/3.json?api-key=yRosyRyQLdBlMCkZ4Aj94yh90eSx0vpd\n"
    }
   ],
   "source": [
    "month = \"3\"\n",
    "year = \"2020\"\n",
    "\n",
    "base_url = f\"https://api.nytimes.com/svc/archive/v1/{year}/{month}.json?api-key={nyt_key}\"\n",
    "print (base_url)"
   ]
  },
  {
   "cell_type": "code",
   "execution_count": 27,
   "metadata": {},
   "outputs": [
    {
     "output_type": "execute_result",
     "data": {
      "text/plain": "<Response [200]>"
     },
     "metadata": {},
     "execution_count": 27
    }
   ],
   "source": [
    "response = requests.get(base_url)\n",
    "response"
   ]
  },
  {
   "cell_type": "code",
   "execution_count": 28,
   "metadata": {},
   "outputs": [],
   "source": [
    "resp = response.json()"
   ]
  },
  {
   "cell_type": "code",
   "execution_count": 30,
   "metadata": {},
   "outputs": [],
   "source": [
    "publication_date = []\n",
    "document_type = []\n",
    "headline = []\n",
    "keyword_1 = []\n",
    "keyword_2 = []\n",
    "keyword_3 = []\n",
    "\n",
    "for i in resp[\"response\"][\"docs\"]:\n",
    "    if len(i[\"keywords\"]) >= 3:\n",
    "        publication_date.append(i[\"pub_date\"])\n",
    "        keyword_1.append(i[\"keywords\"][0][\"value\"])\n",
    "        keyword_2.append(i[\"keywords\"][1][\"value\"])\n",
    "        keyword_3.append(i[\"keywords\"][2][\"value\"])"
   ]
  },
  {
   "cell_type": "code",
   "execution_count": 31,
   "metadata": {},
   "outputs": [],
   "source": [
    "data = {\n",
    "    \"publication_date\":publication_date,\n",
    "    \"keyword_1\":keyword_1,\n",
    "    \"keyword_2\":keyword_2,\n",
    "    \"keyword_3\":keyword_3,\n",
    "}\n",
    "\n"
   ]
  },
  {
   "cell_type": "code",
   "execution_count": 32,
   "metadata": {
    "tags": []
   },
   "outputs": [
    {
     "output_type": "stream",
     "name": "stdout",
     "text": "6504\n"
    },
    {
     "output_type": "execute_result",
     "data": {
      "text/plain": "           publication_date                      keyword_1  \\\n0  2020-03-01T07:22:34+0000                     Television   \n1  2020-03-01T11:51:43+0000  Presidential Election of 2020   \n2  2020-03-02T08:00:09+0000                       Baseball   \n3  2020-03-02T08:00:11+0000            Snow and Snowstorms   \n4  2020-03-01T21:12:51+0000        Coronavirus (2019-nCoV)   \n\n                          keyword_2              keyword_3  \n0  Saturday Night Live (TV Program)          Mulaney, John  \n1            Primaries and Caucuses       Democratic Party  \n2               Los Angeles Dodgers         Houston Astros  \n3                     New York City         Global Warming  \n4     Presidential Election of 2020  United States Economy  ",
      "text/html": "<div>\n<style scoped>\n    .dataframe tbody tr th:only-of-type {\n        vertical-align: middle;\n    }\n\n    .dataframe tbody tr th {\n        vertical-align: top;\n    }\n\n    .dataframe thead th {\n        text-align: right;\n    }\n</style>\n<table border=\"1\" class=\"dataframe\">\n  <thead>\n    <tr style=\"text-align: right;\">\n      <th></th>\n      <th>publication_date</th>\n      <th>keyword_1</th>\n      <th>keyword_2</th>\n      <th>keyword_3</th>\n    </tr>\n  </thead>\n  <tbody>\n    <tr>\n      <th>0</th>\n      <td>2020-03-01T07:22:34+0000</td>\n      <td>Television</td>\n      <td>Saturday Night Live (TV Program)</td>\n      <td>Mulaney, John</td>\n    </tr>\n    <tr>\n      <th>1</th>\n      <td>2020-03-01T11:51:43+0000</td>\n      <td>Presidential Election of 2020</td>\n      <td>Primaries and Caucuses</td>\n      <td>Democratic Party</td>\n    </tr>\n    <tr>\n      <th>2</th>\n      <td>2020-03-02T08:00:09+0000</td>\n      <td>Baseball</td>\n      <td>Los Angeles Dodgers</td>\n      <td>Houston Astros</td>\n    </tr>\n    <tr>\n      <th>3</th>\n      <td>2020-03-02T08:00:11+0000</td>\n      <td>Snow and Snowstorms</td>\n      <td>New York City</td>\n      <td>Global Warming</td>\n    </tr>\n    <tr>\n      <th>4</th>\n      <td>2020-03-01T21:12:51+0000</td>\n      <td>Coronavirus (2019-nCoV)</td>\n      <td>Presidential Election of 2020</td>\n      <td>United States Economy</td>\n    </tr>\n  </tbody>\n</table>\n</div>"
     },
     "metadata": {},
     "execution_count": 32
    }
   ],
   "source": [
    "df = pd.DataFrame(data)\n",
    "print(len(df))\n",
    "df.head()"
   ]
  },
  {
   "cell_type": "code",
   "execution_count": null,
   "metadata": {},
   "outputs": [],
   "source": []
  },
  {
   "cell_type": "code",
   "execution_count": 33,
   "metadata": {},
   "outputs": [
    {
     "output_type": "execute_result",
     "data": {
      "text/plain": "Coronavirus (2019-nCoV)                  2535.0\nPresidential Election of 2020             643.0\nQuarantines                               432.0\nPrimaries and Caucuses                    385.0\nUnited States Politics and Government     332.0\nBooks and Literature                      232.0\nElections                                 226.0\nUnited States Economy                     214.0\nPolitics and Government                   208.0\nEpidemics                                 198.0\nShutdowns (Institutional)                 188.0\nTrump, Donald J                           182.0\nDeaths (Obituaries)                       173.0\nBiden, Joseph R Jr                        163.0\nReal Estate and Housing (Residential)     162.0\nTelevision                                153.0\nArt                                       153.0\nDemocratic Party                          150.0\nMovies                                    143.0\nNew York City                             133.0\nSanders, Bernard                          115.0\nTheater                                   107.0\nTests (Medical)                            99.0\nTravel and Vacations                       96.0\nSocial Media                               91.0\nComputers and the Internet                 90.0\nWomen and Girls                            89.0\nStocks and Bonds                           87.0\nBanking and Financial Institutions         84.0\nLabor and Jobs                             81.0\nCooking and Cookbooks                      72.0\nLayoffs and Job Reductions                 67.0\nStimulus (Economic)                        66.0\nRestaurants                                66.0\nMusic                                      62.0\nChildren and Childhood                     60.0\nMuseums                                    59.0\nChina                                      58.0\nBlack People                               57.0\nNew York State                             56.0\nHospitals                                  52.0\nMasks                                      52.0\nVentilators (Medical)                      51.0\nProtective Clothing and Gear               51.0\nFashion and Apparel                        48.0\nLaw and Legislation                        47.0\nParenting                                  47.0\nPop and Rock Music                         46.0\nColleges and Universities                  46.0\nTravel Warnings                            46.0\ndtype: float64"
     },
     "metadata": {},
     "execution_count": 33
    }
   ],
   "source": [
    "# getting counts of keywords in dataset\n",
    "keyword_count_1 = df.keyword_1.value_counts()[0:100]\n",
    "keyword_count_2 = df.keyword_2.value_counts()[0:100]\n",
    "keyword_count_3 = df.keyword_3.value_counts()[0:100]\n",
    "\n",
    "# combine keyword counts into new dataframe and display top 20 results\n",
    "combined = pd.concat([keyword_count_1,keyword_count_2,keyword_count_3],axis=1).fillna(0)\n",
    "combined = combined[\"keyword_1\"] + combined[\"keyword_2\"] + combined[\"keyword_3\"]\n",
    "combined.sort_values(ascending=False)[0:50]\n",
    "\n",
    "#make a dataframe with month combined keyword count (coronavirus related and all else)\n",
    "#march_df = df[]"
   ]
  },
  {
   "cell_type": "code",
   "execution_count": 4,
   "metadata": {},
   "outputs": [],
   "source": [
    "#fig = px.scatter(df, x=publication_date, y=keyword_1,hover_data=[df.index])\n",
    "#fig.show()\n"
   ]
  },
  {
   "cell_type": "code",
   "execution_count": null,
   "metadata": {},
   "outputs": [],
   "source": []
  },
  {
   "cell_type": "code",
   "execution_count": null,
   "metadata": {},
   "outputs": [],
   "source": []
  }
 ],
 "metadata": {
  "kernelspec": {
   "display_name": "Python 3",
   "language": "python",
   "name": "python3"
  },
  "language_info": {
   "codemirror_mode": {
    "name": "ipython",
    "version": 3
   },
   "file_extension": ".py",
   "mimetype": "text/x-python",
   "name": "python",
   "nbconvert_exporter": "python",
   "pygments_lexer": "ipython3",
   "version": "3.7.7"
  }
 },
 "nbformat": 4,
 "nbformat_minor": 4
}