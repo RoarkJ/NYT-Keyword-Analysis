{
 "cells": [
  {
   "cell_type": "code",
   "execution_count": 5,
   "metadata": {},
   "outputs": [],
   "source": [
    "import pandas as pd\n",
    "from pathlib import Path\n",
    "\n",
    "data_folder = Path(\"data/\")\n",
    "data_file = data_folder / \"keywords_monthly.csv\"\n"
   ]
  },
  {
   "cell_type": "code",
   "execution_count": 6,
   "metadata": {},
   "outputs": [
    {
     "data": {
      "text/html": [
       "<div>\n",
       "<style scoped>\n",
       "    .dataframe tbody tr th:only-of-type {\n",
       "        vertical-align: middle;\n",
       "    }\n",
       "\n",
       "    .dataframe tbody tr th {\n",
       "        vertical-align: top;\n",
       "    }\n",
       "\n",
       "    .dataframe thead th {\n",
       "        text-align: right;\n",
       "    }\n",
       "</style>\n",
       "<table border=\"1\" class=\"dataframe\">\n",
       "  <thead>\n",
       "    <tr style=\"text-align: right;\">\n",
       "      <th></th>\n",
       "      <th>Keywords_April</th>\n",
       "      <th>April</th>\n",
       "    </tr>\n",
       "  </thead>\n",
       "  <tbody>\n",
       "    <tr>\n",
       "      <th>0</th>\n",
       "      <td>Coronavirus (2019-nCoV)                       ...</td>\n",
       "      <td>NaN</td>\n",
       "    </tr>\n",
       "    <tr>\n",
       "      <th>1</th>\n",
       "      <td>Presidential Election of 2020                 ...</td>\n",
       "      <td>NaN</td>\n",
       "    </tr>\n",
       "    <tr>\n",
       "      <th>2</th>\n",
       "      <td>Quarantines                                   ...</td>\n",
       "      <td>NaN</td>\n",
       "    </tr>\n",
       "    <tr>\n",
       "      <th>3</th>\n",
       "      <td>Parenting                                     ...</td>\n",
       "      <td>NaN</td>\n",
       "    </tr>\n",
       "    <tr>\n",
       "      <th>4</th>\n",
       "      <td>United States Politics and Government         ...</td>\n",
       "      <td>NaN</td>\n",
       "    </tr>\n",
       "  </tbody>\n",
       "</table>\n",
       "</div>"
      ],
      "text/plain": [
       "                                      Keywords_April  April\n",
       "0  Coronavirus (2019-nCoV)                       ...    NaN\n",
       "1  Presidential Election of 2020                 ...    NaN\n",
       "2  Quarantines                                   ...    NaN\n",
       "3  Parenting                                     ...    NaN\n",
       "4  United States Politics and Government         ...    NaN"
      ]
     },
     "execution_count": 6,
     "metadata": {},
     "output_type": "execute_result"
    }
   ],
   "source": [
    "#get month counts\n",
    "\n",
    "filtered_df = pd.read_csv(data_file, usecols=['Keywords_April', 'April'])\n",
    "#,'Keywords_June', 'June','Keywords_July', 'July' ])     \n",
    "filtered_df.head()"
   ]
  },
  {
   "cell_type": "code",
   "execution_count": null,
   "metadata": {
    "tags": []
   },
   "outputs": [],
   "source": [
    "months = [\"3\",\"4\",\"5\",\"6\",\"7\"]\n",
    "    keywords = []\n",
    "    \n",
    "    for month in months:\n",
    "        \n",
    "        for i in response:\n",
    "            publication_date.append(i[\"pub_date\"])\n",
    "            document_type.append(i[\"document_type\"])\n",
    "            headline.append(i[\"headline\"][\"main\"])\n",
    "            abstract.append(i[\"abstract\"])\n",
    "            lead_paragraph.append(i[\"lead_paragraph\"])\n",
    "\n",
    "    data = {\n",
    "        \"keyword\":publication_date,\n",
    "        \"year\":document_type,\n",
    "        \"keyword_count\":headline,\n",
    "    }\n",
    "    df = pd.DataFrame(data)\n",
    "\n",
    "    # getting the top 100 mentions of all headlines, abstracts, lead_paragraphs and keywords\n",
    "    \n",
    "# df_combined.to_csv(\"Output/DFs/tokens_raw.csv\")"
   ]
  }
 ],
 "metadata": {
  "kernelspec": {
   "display_name": "Python 3",
   "language": "python",
   "name": "python3"
  },
  "language_info": {
   "codemirror_mode": {
    "name": "ipython",
    "version": 3
   },
   "file_extension": ".py",
   "mimetype": "text/x-python",
   "name": "python",
   "nbconvert_exporter": "python",
   "pygments_lexer": "ipython3",
   "version": "3.7.7"
  }
 },
 "nbformat": 4,
 "nbformat_minor": 4
}
