{
 "cells": [
  {
   "cell_type": "code",
   "execution_count": 63,
   "metadata": {},
   "outputs": [],
   "source": [
    "import requests\n",
    "import json\n",
    "import pandas as pd\n",
    "import numpy as np\n",
    "from config import nyt_key\n",
    "import matplotlib as plt\n",
    "import sys\n",
    "import gc\n",
    "import plotly\n",
    "\n",
    "import pandas as pd\n",
    "from pathlib import Path\n",
    "\n",
    "data_file = r\"data/keywords_monthly.csv\""
   ]
  },
  {
   "cell_type": "code",
   "execution_count": 64,
   "metadata": {
    "tags": []
   },
   "outputs": [
    {
     "name": "stdout",
     "output_type": "stream",
     "text": [
      "https://api.nytimes.com/svc/archive/v1/2020/3.json?api-key=yRosyRyQLdBlMCkZ4Aj94yh90eSx0vpd\n"
     ]
    }
   ],
   "source": [
    "months = ['3','4','5','6','7']\n",
    "year = \"2020\"\n",
    "\n",
    "base_url = f\"https://api.nytimes.com/svc/archive/v1/{year}/{current_month}.json?api-key={nyt_key}\"\n",
    "print (base_url)\n",
    "\n",
    "def cleanup ():\n",
    "    publication_date = []\n",
    "    keyword_1 = []\n",
    "    keyword_2 = []\n",
    "    keyword_3 = []\n",
    "    keyword_count_1=0\n",
    "    keyword_count_2=0\n",
    "    keyword_count_3=0\n",
    "    combine=[]\n",
    "    #del [[df_1]\n",
    "    gc.enable()\n",
    "    print(gc.get_stats())\n",
    "    return\n"
   ]
  },
  {
   "cell_type": "code",
   "execution_count": 65,
   "metadata": {
    "scrolled": true
   },
   "outputs": [],
   "source": [
    "#response = requests.get(base_url)\n",
    "#response"
   ]
  },
  {
   "cell_type": "code",
   "execution_count": 66,
   "metadata": {},
   "outputs": [],
   "source": [
    "resp = response.json()"
   ]
  },
  {
   "cell_type": "code",
   "execution_count": 67,
   "metadata": {
    "scrolled": false
   },
   "outputs": [
    {
     "name": "stdout",
     "output_type": "stream",
     "text": [
      "3\n",
      "[{'collections': 8974, 'collected': 3230, 'uncollectable': 0}, {'collections': 815, 'collected': 621, 'uncollectable': 0}, {'collections': 64, 'collected': 170, 'uncollectable': 0}]\n",
      "4\n",
      "[{'collections': 9196, 'collected': 3230, 'uncollectable': 0}, {'collections': 835, 'collected': 621, 'uncollectable': 0}, {'collections': 66, 'collected': 170, 'uncollectable': 0}]\n",
      "5\n",
      "[{'collections': 9388, 'collected': 3230, 'uncollectable': 0}, {'collections': 853, 'collected': 621, 'uncollectable': 0}, {'collections': 67, 'collected': 170, 'uncollectable': 0}]\n",
      "6\n",
      "[{'collections': 9593, 'collected': 3230, 'uncollectable': 0}, {'collections': 872, 'collected': 621, 'uncollectable': 0}, {'collections': 68, 'collected': 170, 'uncollectable': 0}]\n",
      "7\n",
      "[{'collections': 9790, 'collected': 3230, 'uncollectable': 0}, {'collections': 889, 'collected': 621, 'uncollectable': 0}, {'collections': 70, 'collected': 170, 'uncollectable': 0}]\n"
     ]
    }
   ],
   "source": [
    "for month in months:\n",
    "    base_url = f\"https://api.nytimes.com/svc/archive/v1/{year}/{month}.json?api-key={nyt_key}\"\n",
    "    print(month)\n",
    "    response = requests.get(base_url)\n",
    "    response\n",
    "    resp = response.json()\n",
    "    \n",
    "    publication_date = []\n",
    "    keyword_1 = []\n",
    "    keyword_2 = []\n",
    "    keyword_3 = []\n",
    "    keyword_count_1=0\n",
    "    keyword_count_2=0\n",
    "    keyword_count_3=0\n",
    "    combine=[]\n",
    "      for i in response:\n",
    "            for j in i[\"keywords\"]:\n",
    "                keywords.append(j[\"value\"])\n",
    "                keyword_dates.append(i[\"pub_date\"])\n",
    "    data = {\n",
    "        \"publication_date\":keyword_dates,\n",
    "        \"keywords\":keywords\n",
    "    }\n",
    "    df = pd.DataFrame(data)\n",
    "    series = df[\"keywords\"].value_counts()\n",
    "    return series\n",
    "    \n",
    "    data = {\n",
    "        \"publication_date\":publication_date,\n",
    "        \"keyword_1\":keyword_1,\n",
    "        \"keyword_2\":keyword_2,\n",
    "        \"keyword_3\":keyword_3,\n",
    "            }\n",
    "\n",
    "    df = pd.DataFrame(data)\n",
    "            \n",
    "    keyword_count_1 = df.keyword_1.value_counts()[0:100]\n",
    "    keyword_count_2 = df.keyword_2.value_counts()[0:100]\n",
    "    keyword_count_3 = df.keyword_3.value_counts()[0:100]\n",
    "    combined = pd.concat([keyword_count_1,keyword_count_2,keyword_count_3],axis=1).fillna(0)\n",
    "    combined = combined[\"keyword_1\"] + combined[\"keyword_2\"] + combined[\"keyword_3\"]\n",
    "    combined.sort_values(ascending=False)[0:50]\n",
    "    #df['xmonth'] = month\n",
    "    data = {\n",
    "        \"month\":month,\n",
    "        \"combined\":combined,\n",
    "            }\n",
    "    df = pd.DataFrame(data)   \n",
    "     #write each month and keyword to a new column\n",
    "     \n",
    "     #df.to_csv (r'data_file.csv', index = True, header=True)\n",
    "            \n",
    "    df.to_csv (r'data_file'+month+\".csv\", index = True, header=True)\n",
    "    cleanup() #clear memory objects\n",
    "   \n",
    "# to do filter lists realted to corona"
   ]
  },
  {
   "cell_type": "code",
   "execution_count": null,
   "metadata": {},
   "outputs": [],
   "source": []
  },
  {
   "cell_type": "code",
   "execution_count": null,
   "metadata": {},
   "outputs": [],
   "source": [
    "pd.concat([''])"
   ]
  },
  {
   "cell_type": "code",
   "execution_count": 21,
   "metadata": {},
   "outputs": [],
   "source": [
    "#fig = px.scatter(df, x=publication_date, y=keyword_1,hover_data=[df.index])\n",
    "#fig.show()\n"
   ]
  },
  {
   "cell_type": "code",
   "execution_count": null,
   "metadata": {},
   "outputs": [],
   "source": []
  }
 ],
 "metadata": {
  "kernelspec": {
   "display_name": "Python 3",
   "language": "python",
   "name": "python3"
  },
  "language_info": {
   "codemirror_mode": {
    "name": "ipython",
    "version": 3
   },
   "file_extension": ".py",
   "mimetype": "text/x-python",
   "name": "python",
   "nbconvert_exporter": "python",
   "pygments_lexer": "ipython3",
   "version": "3.7.7"
  }
 },
 "nbformat": 4,
 "nbformat_minor": 4
}
