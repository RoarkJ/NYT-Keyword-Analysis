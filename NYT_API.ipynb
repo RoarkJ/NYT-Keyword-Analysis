{
 "cells": [
  {
   "cell_type": "code",
   "execution_count": 1,
   "metadata": {},
   "outputs": [],
   "source": [
    "import requests\n",
    "import json\n",
    "import pandas as pd\n",
    "from config import nyt_key"
   ]
  },
  {
   "cell_type": "code",
   "execution_count": 2,
   "metadata": {},
   "outputs": [],
   "source": [
    "month = \"10\"\n",
    "year = \"2016\"\n",
    "\n",
    "base_url = f\"https://api.nytimes.com/svc/archive/v1/{year}/{month}.json?api-key={nyt_key}\""
   ]
  },
  {
   "cell_type": "code",
   "execution_count": 3,
   "metadata": {},
   "outputs": [
    {
     "data": {
      "text/plain": [
       "<Response [200]>"
      ]
     },
     "execution_count": 3,
     "metadata": {},
     "output_type": "execute_result"
    }
   ],
   "source": [
    "response = requests.get(base_url)\n",
    "response"
   ]
  },
  {
   "cell_type": "code",
   "execution_count": 4,
   "metadata": {},
   "outputs": [],
   "source": [
    "resp = response.json()"
   ]
  },
  {
   "cell_type": "code",
   "execution_count": 5,
   "metadata": {},
   "outputs": [],
   "source": [
    "publication_date = []\n",
    "document_type = []\n",
    "headline = []\n",
    "abstract = []\n",
    "snippet = []\n",
    "lead_paragraph = []\n",
    "keyword_1 = []\n",
    "keyword_2 = []\n",
    "keyword_3 = []\n",
    "\n",
    "for i in resp[\"response\"][\"docs\"]:\n",
    "    if len(i[\"keywords\"]) >= 3:\n",
    "        publication_date.append(i[\"pub_date\"])\n",
    "        document_type.append(i[\"document_type\"])\n",
    "        headline.append(i[\"headline\"][\"main\"])\n",
    "        abstract.append(i[\"abstract\"])\n",
    "        snippet.append(i[\"snippet\"])\n",
    "        lead_paragraph.append(i[\"lead_paragraph\"])\n",
    "        keyword_1.append(i[\"keywords\"][0][\"value\"])\n",
    "        keyword_2.append(i[\"keywords\"][1][\"value\"])\n",
    "        keyword_3.append(i[\"keywords\"][2][\"value\"])"
   ]
  },
  {
   "cell_type": "code",
   "execution_count": 6,
   "metadata": {},
   "outputs": [],
   "source": [
    "data = {\n",
    "    \"publication_date\":publication_date,\n",
    "    \"document_type\":document_type,\n",
    "    \"headline\":headline,\n",
    "    \"abstract\":abstract,\n",
    "    \"snippet\":snippet,\n",
    "    \"lead_paragraph\":lead_paragraph,\n",
    "    \"keyword_1\":keyword_1,\n",
    "    \"keyword_2\":keyword_2,\n",
    "    \"keyword_3\":keyword_3,\n",
    "}"
   ]
  },
  {
   "cell_type": "code",
   "execution_count": 7,
   "metadata": {},
   "outputs": [
    {
     "name": "stdout",
     "output_type": "stream",
     "text": [
      "6709\n"
     ]
    },
    {
     "data": {
      "text/html": [
       "<div>\n",
       "<style scoped>\n",
       "    .dataframe tbody tr th:only-of-type {\n",
       "        vertical-align: middle;\n",
       "    }\n",
       "\n",
       "    .dataframe tbody tr th {\n",
       "        vertical-align: top;\n",
       "    }\n",
       "\n",
       "    .dataframe thead th {\n",
       "        text-align: right;\n",
       "    }\n",
       "</style>\n",
       "<table border=\"1\" class=\"dataframe\">\n",
       "  <thead>\n",
       "    <tr style=\"text-align: right;\">\n",
       "      <th></th>\n",
       "      <th>publication_date</th>\n",
       "      <th>document_type</th>\n",
       "      <th>headline</th>\n",
       "      <th>abstract</th>\n",
       "      <th>snippet</th>\n",
       "      <th>lead_paragraph</th>\n",
       "      <th>keyword_1</th>\n",
       "      <th>keyword_2</th>\n",
       "      <th>keyword_3</th>\n",
       "    </tr>\n",
       "  </thead>\n",
       "  <tbody>\n",
       "    <tr>\n",
       "      <th>0</th>\n",
       "      <td>2016-10-03T20:29:43+0000</td>\n",
       "      <td>article</td>\n",
       "      <td>Two Brothers, Both August Wilson Stalwarts, Pl...</td>\n",
       "      <td>Brandon and Jason Dirden discuss how their dif...</td>\n",
       "      <td>Brandon and Jason Dirden discuss how their dif...</td>\n",
       "      <td>The work of August Wilson has for years sustai...</td>\n",
       "      <td>Theater</td>\n",
       "      <td>Dirden, Jason</td>\n",
       "      <td>Dirden, Brandon J</td>\n",
       "    </tr>\n",
       "    <tr>\n",
       "      <th>1</th>\n",
       "      <td>2016-10-03T23:45:01+0000</td>\n",
       "      <td>article</td>\n",
       "      <td>Resurrecting Colombia’s Peace Deal</td>\n",
       "      <td>There is a slim window of opportunity to get t...</td>\n",
       "      <td>There is a slim window of opportunity to get t...</td>\n",
       "      <td>By narrowly rejecting an agreement between the...</td>\n",
       "      <td>Colombia</td>\n",
       "      <td>Revolutionary Armed Forces of Colombia</td>\n",
       "      <td>Santos, Juan Manuel</td>\n",
       "    </tr>\n",
       "    <tr>\n",
       "      <th>2</th>\n",
       "      <td>2016-10-03T02:36:32+0000</td>\n",
       "      <td>article</td>\n",
       "      <td>Men Who Found Bomb Were Following a New York T...</td>\n",
       "      <td>Two men who took a rolling bag on West 27th St...</td>\n",
       "      <td>Two men who took a rolling bag on West 27th St...</td>\n",
       "      <td>It was an odd side story to the bombing in New...</td>\n",
       "      <td>Chelsea, Manhattan Bombing (2016)</td>\n",
       "      <td>Nir, Sarah Maslin</td>\n",
       "      <td>Police Department (NYC)</td>\n",
       "    </tr>\n",
       "    <tr>\n",
       "      <th>3</th>\n",
       "      <td>2016-10-03T01:41:51+0000</td>\n",
       "      <td>article</td>\n",
       "      <td>Giants (2-1) at Minnesota Vikings (3-0)</td>\n",
       "      <td>The Giants-Vikings Monday night matchup.</td>\n",
       "      <td>The Giants-Vikings Monday night matchup.</td>\n",
       "      <td>8:30 p.m., ESPN</td>\n",
       "      <td>Football</td>\n",
       "      <td>New York Giants</td>\n",
       "      <td>Minnesota Vikings</td>\n",
       "    </tr>\n",
       "    <tr>\n",
       "      <th>4</th>\n",
       "      <td>2016-10-03T01:22:55+0000</td>\n",
       "      <td>article</td>\n",
       "      <td>Philadelphia Orchestra Ends Its Brief Strike</td>\n",
       "      <td>Musicians in the orchestra agreed to a three-y...</td>\n",
       "      <td>Musicians in the orchestra agreed to a three-y...</td>\n",
       "      <td>The Philadelphia sound will sound again.</td>\n",
       "      <td>Cooper, Michael</td>\n",
       "      <td>Classical Music</td>\n",
       "      <td>Strikes</td>\n",
       "    </tr>\n",
       "  </tbody>\n",
       "</table>\n",
       "</div>"
      ],
      "text/plain": [
       "           publication_date document_type  \\\n",
       "0  2016-10-03T20:29:43+0000       article   \n",
       "1  2016-10-03T23:45:01+0000       article   \n",
       "2  2016-10-03T02:36:32+0000       article   \n",
       "3  2016-10-03T01:41:51+0000       article   \n",
       "4  2016-10-03T01:22:55+0000       article   \n",
       "\n",
       "                                            headline  \\\n",
       "0  Two Brothers, Both August Wilson Stalwarts, Pl...   \n",
       "1                 Resurrecting Colombia’s Peace Deal   \n",
       "2  Men Who Found Bomb Were Following a New York T...   \n",
       "3            Giants (2-1) at Minnesota Vikings (3-0)   \n",
       "4       Philadelphia Orchestra Ends Its Brief Strike   \n",
       "\n",
       "                                            abstract  \\\n",
       "0  Brandon and Jason Dirden discuss how their dif...   \n",
       "1  There is a slim window of opportunity to get t...   \n",
       "2  Two men who took a rolling bag on West 27th St...   \n",
       "3           The Giants-Vikings Monday night matchup.   \n",
       "4  Musicians in the orchestra agreed to a three-y...   \n",
       "\n",
       "                                             snippet  \\\n",
       "0  Brandon and Jason Dirden discuss how their dif...   \n",
       "1  There is a slim window of opportunity to get t...   \n",
       "2  Two men who took a rolling bag on West 27th St...   \n",
       "3           The Giants-Vikings Monday night matchup.   \n",
       "4  Musicians in the orchestra agreed to a three-y...   \n",
       "\n",
       "                                      lead_paragraph  \\\n",
       "0  The work of August Wilson has for years sustai...   \n",
       "1  By narrowly rejecting an agreement between the...   \n",
       "2  It was an odd side story to the bombing in New...   \n",
       "3                                   8:30 p.m., ESPN    \n",
       "4           The Philadelphia sound will sound again.   \n",
       "\n",
       "                           keyword_1                               keyword_2  \\\n",
       "0                            Theater                           Dirden, Jason   \n",
       "1                           Colombia  Revolutionary Armed Forces of Colombia   \n",
       "2  Chelsea, Manhattan Bombing (2016)                       Nir, Sarah Maslin   \n",
       "3                           Football                         New York Giants   \n",
       "4                    Cooper, Michael                         Classical Music   \n",
       "\n",
       "                 keyword_3  \n",
       "0        Dirden, Brandon J  \n",
       "1      Santos, Juan Manuel  \n",
       "2  Police Department (NYC)  \n",
       "3        Minnesota Vikings  \n",
       "4                  Strikes  "
      ]
     },
     "execution_count": 7,
     "metadata": {},
     "output_type": "execute_result"
    }
   ],
   "source": [
    "df = pd.DataFrame(data)\n",
    "print(len(df))\n",
    "df.head()"
   ]
  },
  {
   "cell_type": "code",
   "execution_count": 9,
   "metadata": {},
   "outputs": [
    {
     "data": {
      "text/plain": [
       "Presidential Election of 2016             906.0\n",
       "Trump, Donald J                           342.0\n",
       "Baseball                                  244.0\n",
       "Books and Literature                      239.0\n",
       "Clinton, Hillary Rodham                   203.0\n",
       "Art                                       179.0\n",
       "Movies                                    176.0\n",
       "Fashion and Apparel                       158.0\n",
       "Theater                                   150.0\n",
       "Television                                136.0\n",
       "Real Estate and Housing (Residential)     104.0\n",
       "Deaths (Obituaries)                       101.0\n",
       "Women and Girls                            97.0\n",
       "Football                                   96.0\n",
       "Debates (Political)                        90.0\n",
       "Travel and Vacations                       89.0\n",
       "Mergers, Acquisitions and Divestitures     83.0\n",
       "Dancing                                    77.0\n",
       "Music                                      76.0\n",
       "Photography                                74.0\n",
       "dtype: float64"
      ]
     },
     "execution_count": 9,
     "metadata": {},
     "output_type": "execute_result"
    }
   ],
   "source": [
    "# getting counts of keywords in dataset\n",
    "keyword_count_1 = df.keyword_1.value_counts()[0:100]\n",
    "keyword_count_2 = df.keyword_2.value_counts()[0:100]\n",
    "keyword_count_3 = df.keyword_3.value_counts()[0:100]\n",
    "\n",
    "# combine keyword counts into new dataframe and display top 20 results\n",
    "combined = pd.concat([keyword_count_1,keyword_count_2,keyword_count_3],axis=1).fillna(0)\n",
    "combined = combined[\"keyword_1\"] + combined[\"keyword_2\"] + combined[\"keyword_3\"]\n",
    "combined.sort_values(ascending=False)[0:20]"
   ]
  },
  {
   "cell_type": "code",
   "execution_count": null,
   "metadata": {},
   "outputs": [],
   "source": []
  }
 ],
 "metadata": {
  "kernelspec": {
   "display_name": "Python 3",
   "language": "python",
   "name": "python3"
  },
  "language_info": {
   "codemirror_mode": {
    "name": "ipython",
    "version": 3
   },
   "file_extension": ".py",
   "mimetype": "text/x-python",
   "name": "python",
   "nbconvert_exporter": "python",
   "pygments_lexer": "ipython3",
   "version": "3.7.6"
  }
 },
 "nbformat": 4,
 "nbformat_minor": 4
}
