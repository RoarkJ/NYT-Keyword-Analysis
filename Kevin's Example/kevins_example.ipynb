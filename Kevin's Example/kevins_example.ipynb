{
 "cells": [
  {
   "cell_type": "code",
   "execution_count": null,
   "metadata": {},
   "outputs": [],
   "source": [
    "import requests\n",
    "import json\n",
    "import pandas as pd\n",
    "from config import nyt_key\n",
    "import matplotlib.pyplot as plt\n",
    "from pprint import pprint\n",
    "%matplotlib inline"
   ]
  },
  {
   "cell_type": "code",
   "execution_count": null,
   "metadata": {},
   "outputs": [],
   "source": [
    "base_url = f\"https://api.nytimes.com/svc/archive/v1/2020/3.json?api-key={nyt_key}\"\n",
    "pprint(requests.get(base_url).json(),indent=1)"
   ]
  },
  {
   "cell_type": "code",
   "execution_count": null,
   "metadata": {},
   "outputs": [],
   "source": [
    "response=requests.get(base_url)\n",
    "data=response.json()\n",
    "docs=data['response']['docs']\n",
    "docs[0].keys()\n",
    "keys=['abstract', 'web_url', 'snippet', 'lead_paragraph', 'source', 'multimedia', \n",
    "'headline', 'keywords', 'pub_date', 'document_type', 'news_desk', 'section_name', \n",
    "'subsection_name', 'byline', 'type_of_material', '_id', 'word_count', 'uri']\n",
    "doc_list=[]\n",
    "for each_doc in docs[0: 5]: \n",
    "    current_doc=each_doc\n",
    "    doc_dict={}\n",
    "    for each_key in keys: \n",
    "        try: \n",
    "            doc_dict[each_key]=current_doc[each_key]\n",
    "        except: \n",
    "            pass\n",
    "    doc_list.append(doc_dict)\n",
    "\n",
    "df=pd.DataFrame(doc_list)\n",
    "# doc_list"
   ]
  },
  {
   "cell_type": "code",
   "execution_count": null,
   "metadata": {},
   "outputs": [],
   "source": [
    "# response=requests.get(base_url)\n",
    "# data=response.json()\n",
    "docs=data['response']['docs']\n",
    "docs[0].keys()\n",
    "keys=['abstract', 'web_url', 'snippet', 'lead_paragraph', 'source', 'multimedia', \n",
    "'headline', 'keywords', 'pub_date', 'document_type', 'news_desk', 'section_name', \n",
    "'subsection_name', 'byline', 'type_of_material', '_id', 'word_count', 'uri']\n",
    "doc_list=[]\n",
    "for each_doc in docs[0: 5]: \n",
    "    current_doc=each_doc\n",
    "    doc_dict={}\n",
    "    for each_key in keys: \n",
    "        try: \n",
    "            doc_dict[each_key]=current_doc[each_key]\n",
    "        except: \n",
    "            pass\n",
    "    doc_list.append(doc_dict)\n",
    "\n",
    "df=pd.DataFrame(doc_list)\n",
    "# doc_list"
   ]
  },
  {
   "cell_type": "code",
   "execution_count": null,
   "metadata": {},
   "outputs": [],
   "source": [
    "df.columns"
   ]
  },
  {
   "cell_type": "code",
   "execution_count": null,
   "metadata": {},
   "outputs": [],
   "source": [
    "df.head"
   ]
  },
  {
   "cell_type": "code",
   "execution_count": null,
   "metadata": {},
   "outputs": [],
   "source": [
    "from sklearn.preprocessing import OneHotEncoder\n",
    "from sklearn.feature_extraction.text import CountVectorizer\n",
    "# df['lead_paragraph']=\n",
    "\n",
    "paragraph=df['lead_paragraph']\n",
    "count_vec=CountVectorizer()\n",
    "encoded=count_vec.fit_transform(paragraph)\n",
    "# count_vec.get_feature_names()\n",
    "# pd.DataFrame(encoded, columns=count_vec.get_feature_names())\n",
    "# pd.DataFrame(encoded)\n",
    "print(encoded)"
   ]
  },
  {
   "cell_type": "code",
   "execution_count": null,
   "metadata": {},
   "outputs": [],
   "source": [
    "import numpy as np\n",
    "print(np.asarray(encoded))"
   ]
  }
 ],
 "metadata": {
  "kernelspec": {
   "display_name": "Python 3",
   "language": "python",
   "name": "python3"
  },
  "language_info": {
   "codemirror_mode": {
    "name": "ipython",
    "version": 3
   },
   "file_extension": ".py",
   "mimetype": "text/x-python",
   "name": "python",
   "nbconvert_exporter": "python",
   "pygments_lexer": "ipython3",
   "version": "3.7.6"
  }
 },
 "nbformat": 4,
 "nbformat_minor": 4
}
