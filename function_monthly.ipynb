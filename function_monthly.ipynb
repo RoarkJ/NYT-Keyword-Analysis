{
 "cells": [
  {
   "cell_type": "code",
   "execution_count": 1,
   "metadata": {},
   "outputs": [],
   "source": [
    "import requests\n",
    "import json\n",
    "import pandas as pd\n",
    "import numpy as np\n",
    "from config import nyt_key\n",
    "import matplotlib as plt\n",
    "import sys\n",
    "import gc\n",
    "import plotly\n",
    "\n",
    "import pandas as pd\n",
    "from pathlib import Path\n",
    "\n",
    "data_file = r\"data/keywords_monthly.csv\""
   ]
  },
  {
   "cell_type": "code",
   "execution_count": null,
   "metadata": {
    "tags": []
   },
   "outputs": [],
   "source": [
    "months = ['3','4','5','6','7']\n",
    "year = \"2020\"\n",
    "\n",
    "#base_url = f\"https://api.nytimes.com/svc/archive/v1/{year}/{current_month}.json?api-key={nyt_key}\"\n",
    "#print (base_url)\n",
    "\n",
    "def cleanup ():\n",
    "    publication_date = []\n",
    "    keyword_1 = []\n",
    "    keyword_2 = []\n",
    "    keyword_3 = []\n",
    "    keyword_count_1=0\n",
    "    keyword_count_2=0\n",
    "    keyword_count_3=0\n",
    "    combine=[]\n",
    "    #del [[df_1]\n",
    "    gc.enable()\n",
    "    print(gc.get_stats())\n",
    "    return\n"
   ]
  },
  {
   "cell_type": "code",
   "execution_count": null,
   "metadata": {
    "scrolled": true
   },
   "outputs": [],
   "source": [
    "#response = requests.get(base_url)\n",
    "#response"
   ]
  },
  {
   "cell_type": "code",
   "execution_count": null,
   "metadata": {},
   "outputs": [],
   "source": [
    "resp = response.json()"
   ]
  },
  {
   "cell_type": "code",
   "execution_count": 2,
   "metadata": {
    "scrolled": false
   },
   "outputs": [],
   "source": [
    "def pull_data(month, year):\n",
    "    print(month)\n",
    "    base_url = f\"https://api.nytimes.com/svc/archive/v1/{year}/{month}.json?api-key={nyt_key}\"\n",
    "    publication_date = []\n",
    "    keyword_1 = []\n",
    "    keyword_2 = []\n",
    "    keyword_3 = []\n",
    "    keyword_count_1=0\n",
    "    keyword_count_2=0\n",
    "    keyword_count_3=0\n",
    "    combine=[]\n",
    "    \n",
    "    \n",
    "    response = requests.get(base_url)\n",
    "    #response\n",
    "    resp = response.json()\n",
    "\n",
    "    for i in resp[\"response\"][\"docs\"]:\n",
    "        if len(i[\"keywords\"]) >= 3:\n",
    "            publication_date.append(i[\"pub_date\"])\n",
    "            keyword_1.append(i[\"keywords\"][0][\"value\"])\n",
    "            keyword_2.append(i[\"keywords\"][1][\"value\"])\n",
    "            keyword_3.append(i[\"keywords\"][2][\"value\"])\n",
    "    \n",
    "    data = {\n",
    "        \"publication_date\":publication_date,\n",
    "        \"keyword_1\":keyword_1,\n",
    "        \"keyword_2\":keyword_2,\n",
    "        \"keyword_3\":keyword_3,\n",
    "            }\n",
    "\n",
    "    df = pd.DataFrame(data)\n",
    "            \n",
    "#     keyword_count_1 = df.keyword_1.value_counts()[0:100]\n",
    "#     keyword_count_2 = df.keyword_2.value_counts()[0:100]\n",
    "#     keyword_count_3 = df.keyword_3.value_counts()[0:100]\n",
    "#     combined = pd.concat([keyword_count_1,keyword_count_2,keyword_count_3],axis=1).fillna(0)\n",
    "#     combined = combined[\"keyword_1\"] + combined[\"keyword_2\"] + combined[\"keyword_3\"]\n",
    "#     combined.sort_values(ascending=False)[0:50]\n",
    "#     df['current_month'] = month\n",
    "#     data = {\n",
    "#         \"month\":month,\n",
    "#         \"combined\":combined,\n",
    "#             }\n",
    "#     df = pd.DataFrame(data)   \n",
    "#      #write each month and keyword to a new column\n",
    "     \n",
    "#      #df.to_csv (r'data_file.csv', index = True, header=True)\n",
    "            \n",
    "#     df.to_csv (r'data_file'+month+\".csv\", index = True, header=True)\n",
    "#     cleanup() #clear memory objects\n",
    "    \n",
    "# display(df)\n",
    "   "
   ]
  },
  {
   "cell_type": "code",
   "execution_count": 4,
   "metadata": {},
   "outputs": [
    {
     "name": "stdout",
     "output_type": "stream",
     "text": [
      "3\n"
     ]
    },
    {
     "data": {
      "text/html": [
       "<div>\n",
       "<style scoped>\n",
       "    .dataframe tbody tr th:only-of-type {\n",
       "        vertical-align: middle;\n",
       "    }\n",
       "\n",
       "    .dataframe tbody tr th {\n",
       "        vertical-align: top;\n",
       "    }\n",
       "\n",
       "    .dataframe thead th {\n",
       "        text-align: right;\n",
       "    }\n",
       "</style>\n",
       "<table border=\"1\" class=\"dataframe\">\n",
       "  <thead>\n",
       "    <tr style=\"text-align: right;\">\n",
       "      <th></th>\n",
       "      <th>publication_date</th>\n",
       "      <th>keyword_1</th>\n",
       "      <th>keyword_2</th>\n",
       "      <th>keyword_3</th>\n",
       "    </tr>\n",
       "  </thead>\n",
       "  <tbody>\n",
       "    <tr>\n",
       "      <th>0</th>\n",
       "      <td>2020-03-01T07:22:34+0000</td>\n",
       "      <td>Television</td>\n",
       "      <td>Saturday Night Live (TV Program)</td>\n",
       "      <td>Mulaney, John</td>\n",
       "    </tr>\n",
       "    <tr>\n",
       "      <th>1</th>\n",
       "      <td>2020-03-01T11:51:43+0000</td>\n",
       "      <td>Presidential Election of 2020</td>\n",
       "      <td>Primaries and Caucuses</td>\n",
       "      <td>Democratic Party</td>\n",
       "    </tr>\n",
       "    <tr>\n",
       "      <th>2</th>\n",
       "      <td>2020-03-02T08:00:09+0000</td>\n",
       "      <td>Baseball</td>\n",
       "      <td>Los Angeles Dodgers</td>\n",
       "      <td>Houston Astros</td>\n",
       "    </tr>\n",
       "    <tr>\n",
       "      <th>3</th>\n",
       "      <td>2020-03-02T08:00:11+0000</td>\n",
       "      <td>Snow and Snowstorms</td>\n",
       "      <td>New York City</td>\n",
       "      <td>Global Warming</td>\n",
       "    </tr>\n",
       "    <tr>\n",
       "      <th>4</th>\n",
       "      <td>2020-03-01T21:12:51+0000</td>\n",
       "      <td>Coronavirus (2019-nCoV)</td>\n",
       "      <td>Presidential Election of 2020</td>\n",
       "      <td>United States Economy</td>\n",
       "    </tr>\n",
       "  </tbody>\n",
       "</table>\n",
       "</div>"
      ],
      "text/plain": [
       "           publication_date                      keyword_1  \\\n",
       "0  2020-03-01T07:22:34+0000                     Television   \n",
       "1  2020-03-01T11:51:43+0000  Presidential Election of 2020   \n",
       "2  2020-03-02T08:00:09+0000                       Baseball   \n",
       "3  2020-03-02T08:00:11+0000            Snow and Snowstorms   \n",
       "4  2020-03-01T21:12:51+0000        Coronavirus (2019-nCoV)   \n",
       "\n",
       "                          keyword_2              keyword_3  \n",
       "0  Saturday Night Live (TV Program)          Mulaney, John  \n",
       "1            Primaries and Caucuses       Democratic Party  \n",
       "2               Los Angeles Dodgers         Houston Astros  \n",
       "3                     New York City         Global Warming  \n",
       "4     Presidential Election of 2020  United States Economy  "
      ]
     },
     "execution_count": 4,
     "metadata": {},
     "output_type": "execute_result"
    }
   ],
   "source": [
    "df_march = pull_data(3,2020)\n",
    "df_march.head()\n",
    "df_april = pull_data(4,2020)\n",
    "df_april.head()\n",
    "df_april = pull_data(5,2020)\n",
    "df_april.head()\n",
    "df_april = pull_data(6,2020)\n",
    "df_april.head()\n",
    "df_april = pull_data(7,2020)\n",
    "df_april.head()"
   ]
  },
  {
   "cell_type": "code",
   "execution_count": 7,
   "metadata": {},
   "outputs": [
    {
     "name": "stdout",
     "output_type": "stream",
     "text": [
      "4\n"
     ]
    },
    {
     "data": {
      "text/html": [
       "<div>\n",
       "<style scoped>\n",
       "    .dataframe tbody tr th:only-of-type {\n",
       "        vertical-align: middle;\n",
       "    }\n",
       "\n",
       "    .dataframe tbody tr th {\n",
       "        vertical-align: top;\n",
       "    }\n",
       "\n",
       "    .dataframe thead th {\n",
       "        text-align: right;\n",
       "    }\n",
       "</style>\n",
       "<table border=\"1\" class=\"dataframe\">\n",
       "  <thead>\n",
       "    <tr style=\"text-align: right;\">\n",
       "      <th></th>\n",
       "      <th>publication_date</th>\n",
       "      <th>keyword_1</th>\n",
       "      <th>keyword_2</th>\n",
       "      <th>keyword_3</th>\n",
       "    </tr>\n",
       "  </thead>\n",
       "  <tbody>\n",
       "    <tr>\n",
       "      <th>0</th>\n",
       "      <td>2020-04-01T10:56:16+0000</td>\n",
       "      <td>Coronavirus (2019-nCoV)</td>\n",
       "      <td>Delivery Services</td>\n",
       "      <td>AMAZON.COM INC</td>\n",
       "    </tr>\n",
       "    <tr>\n",
       "      <th>1</th>\n",
       "      <td>2020-04-02T13:00:21+0000</td>\n",
       "      <td>Riverdale (Bronx, NY)</td>\n",
       "      <td>Upper West Side (Manhattan, NY)</td>\n",
       "      <td>Sunset Park (Brooklyn, NY)</td>\n",
       "    </tr>\n",
       "    <tr>\n",
       "      <th>2</th>\n",
       "      <td>2020-04-02T07:00:08+0000</td>\n",
       "      <td>Pensions and Retirement Plans</td>\n",
       "      <td>Taxation</td>\n",
       "      <td>Local Government</td>\n",
       "    </tr>\n",
       "    <tr>\n",
       "      <th>3</th>\n",
       "      <td>2020-04-01T09:00:26+0000</td>\n",
       "      <td>Education (K-12)</td>\n",
       "      <td>Real Estate (Commercial)</td>\n",
       "      <td>Nonprofit Organizations</td>\n",
       "    </tr>\n",
       "    <tr>\n",
       "      <th>4</th>\n",
       "      <td>2020-04-02T17:27:56+0000</td>\n",
       "      <td>Coronavirus (2019-nCoV)</td>\n",
       "      <td>Djokovic, Novak</td>\n",
       "      <td>Nadal, Rafael</td>\n",
       "    </tr>\n",
       "  </tbody>\n",
       "</table>\n",
       "</div>"
      ],
      "text/plain": [
       "           publication_date                      keyword_1  \\\n",
       "0  2020-04-01T10:56:16+0000        Coronavirus (2019-nCoV)   \n",
       "1  2020-04-02T13:00:21+0000          Riverdale (Bronx, NY)   \n",
       "2  2020-04-02T07:00:08+0000  Pensions and Retirement Plans   \n",
       "3  2020-04-01T09:00:26+0000               Education (K-12)   \n",
       "4  2020-04-02T17:27:56+0000        Coronavirus (2019-nCoV)   \n",
       "\n",
       "                         keyword_2                   keyword_3  \n",
       "0                Delivery Services              AMAZON.COM INC  \n",
       "1  Upper West Side (Manhattan, NY)  Sunset Park (Brooklyn, NY)  \n",
       "2                         Taxation            Local Government  \n",
       "3         Real Estate (Commercial)     Nonprofit Organizations  \n",
       "4                  Djokovic, Novak               Nadal, Rafael  "
      ]
     },
     "execution_count": 7,
     "metadata": {},
     "output_type": "execute_result"
    }
   ],
   "source": []
  },
  {
   "cell_type": "code",
   "execution_count": 8,
   "metadata": {},
   "outputs": [
    {
     "ename": "TypeError",
     "evalue": "cannot concatenate object of type '<class 'str'>'; only Series and DataFrame objs are valid",
     "output_type": "error",
     "traceback": [
      "\u001b[1;31m---------------------------------------------------------------------------\u001b[0m",
      "\u001b[1;31mTypeError\u001b[0m                                 Traceback (most recent call last)",
      "\u001b[1;32m<ipython-input-8-4de37f7ff41c>\u001b[0m in \u001b[0;36m<module>\u001b[1;34m\u001b[0m\n\u001b[1;32m----> 1\u001b[1;33m \u001b[0mpd\u001b[0m\u001b[1;33m.\u001b[0m\u001b[0mconcat\u001b[0m\u001b[1;33m(\u001b[0m\u001b[1;33m[\u001b[0m\u001b[1;34m'df_march'\u001b[0m\u001b[1;33m,\u001b[0m\u001b[1;34m'df_april'\u001b[0m\u001b[1;33m]\u001b[0m\u001b[1;33m,\u001b[0m\u001b[0maxis\u001b[0m\u001b[1;33m=\u001b[0m\u001b[1;36m1\u001b[0m\u001b[1;33m)\u001b[0m\u001b[1;33m\u001b[0m\u001b[1;33m\u001b[0m\u001b[0m\n\u001b[0m",
      "\u001b[1;32m~\\anaconda3\\lib\\site-packages\\pandas\\core\\reshape\\concat.py\u001b[0m in \u001b[0;36mconcat\u001b[1;34m(objs, axis, join, ignore_index, keys, levels, names, verify_integrity, sort, copy)\u001b[0m\n\u001b[0;32m    279\u001b[0m         \u001b[0mverify_integrity\u001b[0m\u001b[1;33m=\u001b[0m\u001b[0mverify_integrity\u001b[0m\u001b[1;33m,\u001b[0m\u001b[1;33m\u001b[0m\u001b[1;33m\u001b[0m\u001b[0m\n\u001b[0;32m    280\u001b[0m         \u001b[0mcopy\u001b[0m\u001b[1;33m=\u001b[0m\u001b[0mcopy\u001b[0m\u001b[1;33m,\u001b[0m\u001b[1;33m\u001b[0m\u001b[1;33m\u001b[0m\u001b[0m\n\u001b[1;32m--> 281\u001b[1;33m         \u001b[0msort\u001b[0m\u001b[1;33m=\u001b[0m\u001b[0msort\u001b[0m\u001b[1;33m,\u001b[0m\u001b[1;33m\u001b[0m\u001b[1;33m\u001b[0m\u001b[0m\n\u001b[0m\u001b[0;32m    282\u001b[0m     )\n\u001b[0;32m    283\u001b[0m \u001b[1;33m\u001b[0m\u001b[0m\n",
      "\u001b[1;32m~\\anaconda3\\lib\\site-packages\\pandas\\core\\reshape\\concat.py\u001b[0m in \u001b[0;36m__init__\u001b[1;34m(self, objs, axis, join, keys, levels, names, ignore_index, verify_integrity, copy, sort)\u001b[0m\n\u001b[0;32m    355\u001b[0m                     \u001b[1;34m\"only Series and DataFrame objs are valid\"\u001b[0m\u001b[1;33m.\u001b[0m\u001b[0mformat\u001b[0m\u001b[1;33m(\u001b[0m\u001b[0mtyp\u001b[0m\u001b[1;33m=\u001b[0m\u001b[0mtype\u001b[0m\u001b[1;33m(\u001b[0m\u001b[0mobj\u001b[0m\u001b[1;33m)\u001b[0m\u001b[1;33m)\u001b[0m\u001b[1;33m\u001b[0m\u001b[1;33m\u001b[0m\u001b[0m\n\u001b[0;32m    356\u001b[0m                 )\n\u001b[1;32m--> 357\u001b[1;33m                 \u001b[1;32mraise\u001b[0m \u001b[0mTypeError\u001b[0m\u001b[1;33m(\u001b[0m\u001b[0mmsg\u001b[0m\u001b[1;33m)\u001b[0m\u001b[1;33m\u001b[0m\u001b[1;33m\u001b[0m\u001b[0m\n\u001b[0m\u001b[0;32m    358\u001b[0m \u001b[1;33m\u001b[0m\u001b[0m\n\u001b[0;32m    359\u001b[0m             \u001b[1;31m# consolidate\u001b[0m\u001b[1;33m\u001b[0m\u001b[1;33m\u001b[0m\u001b[1;33m\u001b[0m\u001b[0m\n",
      "\u001b[1;31mTypeError\u001b[0m: cannot concatenate object of type '<class 'str'>'; only Series and DataFrame objs are valid"
     ]
    }
   ],
   "source": [
    "pd.concat(['df_march','df_april'],axis=1)"
   ]
  },
  {
   "cell_type": "code",
   "execution_count": null,
   "metadata": {},
   "outputs": [],
   "source": [
    "#fig = px.scatter(df, x=publication_date, y=keyword_1,hover_data=[df.index])\n",
    "#fig.show()\n"
   ]
  },
  {
   "cell_type": "code",
   "execution_count": null,
   "metadata": {},
   "outputs": [],
   "source": []
  }
 ],
 "metadata": {
  "kernelspec": {
   "display_name": "Python 3",
   "language": "python",
   "name": "python3"
  },
  "language_info": {
   "codemirror_mode": {
    "name": "ipython",
    "version": 3
   },
   "file_extension": ".py",
   "mimetype": "text/x-python",
   "name": "python",
   "nbconvert_exporter": "python",
   "pygments_lexer": "ipython3",
   "version": "3.7.7"
  }
 },
 "nbformat": 4,
 "nbformat_minor": 4
}
